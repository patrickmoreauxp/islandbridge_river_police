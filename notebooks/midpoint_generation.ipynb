{
 "cells": [
  {
   "cell_type": "code",
   "execution_count": 1,
   "metadata": {},
   "outputs": [],
   "source": [
    "import pandas as pd\n",
    "from src.data_generation import midpoint_generation\n",
    "from src.data_generation import river_bank_generation\n",
    "from xml.dom import minidom\n",
    "from bokeh.io import output_file, show\n",
    "from bokeh.models import ColumnDataSource, GMapOptions\n",
    "from bokeh.plotting import gmap\n",
    "from bokeh.models import ColumnDataSource, GMapOptions,HoverTool"
   ]
  },
  {
   "cell_type": "code",
   "execution_count": 3,
   "metadata": {},
   "outputs": [],
   "source": [
    "mydoc = minidom.parse(\"data/south_bank.gpx\")\n",
    "\n",
    "items = mydoc.getElementsByTagName('rtept')\n",
    "south_bank=pd.DataFrame()\n",
    "\n",
    "south_bank['lon'] = [float(elem.attributes['lon'].value) for elem in items]\n",
    "south_bank['lat'] = [float(elem.attributes['lat'].value) for elem in items]"
   ]
  },
  {
   "cell_type": "code",
   "execution_count": 4,
   "metadata": {},
   "outputs": [],
   "source": [
    "mydoc = minidom.parse(\"data/north_bank.gpx\")\n",
    "items = mydoc.getElementsByTagName('rtept')\n",
    "north_bank=pd.DataFrame()\n",
    "    \n",
    "north_bank['lon'] = [float(elem.attributes['lon'].value) for elem in items]\n",
    "north_bank['lat'] = [float(elem.attributes['lat'].value) for elem in items]"
   ]
  },
  {
   "cell_type": "code",
   "execution_count": 5,
   "metadata": {},
   "outputs": [],
   "source": [
    "south_bank_inter, north_bank_inter = river_bank_generation.banks_data_gen(south_bank,north_bank)"
   ]
  },
  {
   "cell_type": "code",
   "execution_count": 6,
   "metadata": {},
   "outputs": [],
   "source": [
    "midpoint_df = midpoint_generation.midpoint_data_generation(south_bank_inter, north_bank_inter)\n",
    "# SAVE THIS TO THE DATA FOLDER"
   ]
  },
  {
   "cell_type": "code",
   "execution_count": 8,
   "metadata": {},
   "outputs": [],
   "source": [
    "GOOGLE_MAPS_API_KEY = 'ENTER API KEY HERE'\n",
    "output_file(\"gmap.html\")\n",
    "\n",
    "source = ColumnDataSource(\n",
    "    data=dict(lat= midpoint_df['lat'],\n",
    "              lon= midpoint_df['lon'],\n",
    "            )\n",
    ")\n",
    "\n",
    "map_options = GMapOptions(lat=53.346205, lng=-6.319618, map_type=\"roadmap\", zoom=11)\n",
    "\n",
    "\n",
    "\n",
    "p = gmap(GOOGLE_MAPS_API_KEY, map_options)\n",
    "\n",
    "\n",
    "p.circle(x=\"lon\", y=\"lat\", size=15, fill_color=\"blue\", fill_alpha=0.8, source=source)\n",
    "\n",
    "show(p)"
   ]
  },
  {
   "cell_type": "code",
   "execution_count": null,
   "metadata": {},
   "outputs": [],
   "source": []
  }
 ],
 "metadata": {
  "kernelspec": {
   "display_name": "Python 3",
   "language": "python",
   "name": "python3"
  },
  "language_info": {
   "codemirror_mode": {
    "name": "ipython",
    "version": 3
   },
   "file_extension": ".py",
   "mimetype": "text/x-python",
   "name": "python",
   "nbconvert_exporter": "python",
   "pygments_lexer": "ipython3",
   "version": "3.7.4"
  }
 },
 "nbformat": 4,
 "nbformat_minor": 2
}
